{
 "cells": [
  {
   "cell_type": "code",
   "execution_count": 3,
   "metadata": {},
   "outputs": [
    {
     "name": "stdout",
     "output_type": "stream",
     "text": [
      "You now have your coffee with 2 milk, 0 sugar, 1 coffeemate\n",
      "You now have your coffee with 2 milk, 10 sugar, 1 coffeemate\n"
     ]
    }
   ],
   "source": [
    "class Coffee:\n",
    "\n",
    "    def __init__(self, themilk, thesugar, thecoffeemate):\n",
    "        self.milk = themilk\n",
    "        self.sugar = thesugar\n",
    "        self.coffeemate = thecoffeemate\n",
    "        print(f\"You now have your coffee with {self.milk} milk, {self.sugar} sugar, {self.coffeemate} coffeemate\")\n",
    "\n",
    "mySugarFreeCoffee = Coffee(2,0,1)\n",
    "myMuchSugarCoffee = Coffee(2,10,1)"
   ]
  },
  {
   "cell_type": "code",
   "execution_count": null,
   "metadata": {},
   "outputs": [],
   "source": []
  }
 ],
 "metadata": {
  "kernelspec": {
   "display_name": "Python 3",
   "language": "python",
   "name": "python3"
  },
  "language_info": {
   "codemirror_mode": {
    "name": "ipython",
    "version": 3
   },
   "file_extension": ".py",
   "mimetype": "text/x-python",
   "name": "python",
   "nbconvert_exporter": "python",
   "pygments_lexer": "ipython3",
   "version": "3.8.5"
  }
 },
 "nbformat": 4,
 "nbformat_minor": 4
}
