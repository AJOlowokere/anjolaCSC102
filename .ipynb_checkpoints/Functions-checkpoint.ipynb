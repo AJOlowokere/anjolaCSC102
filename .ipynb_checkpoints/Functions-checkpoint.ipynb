{
 "cells": [
  {
   "cell_type": "code",
   "execution_count": 3,
   "metadata": {},
   "outputs": [
    {
     "name": "stdout",
     "output_type": "stream",
     "text": [
      "Would you like to Shut Down? YES\n",
      "Sorry, such argument not welcome here \n"
     ]
    }
   ],
   "source": [
    "def shut_down():\n",
    "    action = input(\"Would you like to Shut Down? \")  \n",
    "    if action == \"Yes\":\n",
    "        print(\"Shutting Down\")\n",
    "    elif action == \"No\":\n",
    "        print(\"Shutdown aborted\")\n",
    "    else:\n",
    "        print(\"Sorry, such argument not welcome here \")\n",
    "        \n",
    "shut_down()\n"
   ]
  },
  {
   "cell_type": "code",
   "execution_count": null,
   "metadata": {},
   "outputs": [],
   "source": [
    "import colorama\n",
    "from colorama import Fore, Style\n",
    "import pandas as pd\n",
    "import csv\n",
    "\n",
    "def showEmployee():\n",
    "    count = int(input(\"How many employees?\"))\n",
    "    while \n",
    "    "
   ]
  },
  {
   "cell_type": "code",
   "execution_count": 15,
   "metadata": {},
   "outputs": [
    {
     "name": "stdout",
     "output_type": "stream",
     "text": [
      "False\n"
     ]
    }
   ],
   "source": [
    "def cube(number):\n",
    "    print(number*number*number)\n",
    "\n",
    "def by_three(number):\n",
    "        if number % 3 == 0:\n",
    "            return cube(number)\n",
    "        else:\n",
    "            print(False)\n",
    "by_three(5)\n",
    "    "
   ]
  },
  {
   "cell_type": "code",
   "execution_count": null,
   "metadata": {},
   "outputs": [],
   "source": [
    "def casecalc(str):\n",
    "    \n",
    "    "
   ]
  }
 ],
 "metadata": {
  "kernelspec": {
   "display_name": "Python 3",
   "language": "python",
   "name": "python3"
  },
  "language_info": {
   "codemirror_mode": {
    "name": "ipython",
    "version": 3
   },
   "file_extension": ".py",
   "mimetype": "text/x-python",
   "name": "python",
   "nbconvert_exporter": "python",
   "pygments_lexer": "ipython3",
   "version": "3.8.5"
  }
 },
 "nbformat": 4,
 "nbformat_minor": 4
}
