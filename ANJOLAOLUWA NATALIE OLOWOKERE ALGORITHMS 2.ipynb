{
 "cells": [
  {
   "cell_type": "code",
   "execution_count": 4,
   "metadata": {},
   "outputs": [
    {
     "name": "stdout",
     "output_type": "stream",
     "text": [
      "Input a Number: 8\n",
      "Even Wins!!!\n"
     ]
    }
   ],
   "source": [
    "y = int(input('Input a Number: '))\n",
    "if (y % 2)==0:\n",
    "    print (\"Even Wins!!!\")\n",
    "else:\n",
    "    print (\"Odd Wins!!!\")"
   ]
  },
  {
   "cell_type": "code",
   "execution_count": 5,
   "metadata": {},
   "outputs": [
    {
     "name": "stdout",
     "output_type": "stream",
     "text": [
      "Input a Number PLAYER 1: 5\n",
      "Input a Number PLAYER 2: 6\n",
      "PLAYER 2 Wins!!!\n"
     ]
    }
   ],
   "source": [
    "PLAYER1 = int(input('Input a Number PLAYER 1: '))\n",
    "PLAYER2 = int(input('Input a Number PLAYER 2: '))\n",
    "if ((PLAYER1 + PLAYER2)%2)==0:\n",
    "    print (\"PLAYER 1 Wins!!!\")\n",
    "else:\n",
    "    print (\"PLAYER 2 Wins!!!\")"
   ]
  },
  {
   "cell_type": "code",
   "execution_count": 11,
   "metadata": {},
   "outputs": [
    {
     "data": {
      "text/html": [
       "<div>\n",
       "<style scoped>\n",
       "    .dataframe tbody tr th:only-of-type {\n",
       "        vertical-align: middle;\n",
       "    }\n",
       "\n",
       "    .dataframe tbody tr th {\n",
       "        vertical-align: top;\n",
       "    }\n",
       "\n",
       "    .dataframe thead th {\n",
       "        text-align: right;\n",
       "    }\n",
       "</style>\n",
       "<table border=\"1\" class=\"dataframe\">\n",
       "  <thead>\n",
       "    <tr style=\"text-align: right;\">\n",
       "      <th></th>\n",
       "      <th>RDSpend</th>\n",
       "      <th>Administration</th>\n",
       "      <th>MarketingSpend</th>\n",
       "      <th>State</th>\n",
       "      <th>Profit</th>\n",
       "    </tr>\n",
       "  </thead>\n",
       "  <tbody>\n",
       "    <tr>\n",
       "      <th>0</th>\n",
       "      <td>12233</td>\n",
       "      <td>64654</td>\n",
       "      <td>543553</td>\n",
       "      <td>New York</td>\n",
       "      <td>68556</td>\n",
       "    </tr>\n",
       "    <tr>\n",
       "      <th>1</th>\n",
       "      <td>3445</td>\n",
       "      <td>54634</td>\n",
       "      <td>564156</td>\n",
       "      <td>Cali</td>\n",
       "      <td>854156</td>\n",
       "    </tr>\n",
       "    <tr>\n",
       "      <th>2</th>\n",
       "      <td>324565</td>\n",
       "      <td>454552</td>\n",
       "      <td>512641</td>\n",
       "      <td>FloRida</td>\n",
       "      <td>41536</td>\n",
       "    </tr>\n",
       "    <tr>\n",
       "      <th>3</th>\n",
       "      <td>3645</td>\n",
       "      <td>6546859</td>\n",
       "      <td>4156415</td>\n",
       "      <td>New York</td>\n",
       "      <td>524163</td>\n",
       "    </tr>\n",
       "    <tr>\n",
       "      <th>4</th>\n",
       "      <td>36576</td>\n",
       "      <td>468686</td>\n",
       "      <td>654156</td>\n",
       "      <td>Cali</td>\n",
       "      <td>64185</td>\n",
       "    </tr>\n",
       "    <tr>\n",
       "      <th>5</th>\n",
       "      <td>34657</td>\n",
       "      <td>254245</td>\n",
       "      <td>5641564</td>\n",
       "      <td>FloRida</td>\n",
       "      <td>85413</td>\n",
       "    </tr>\n",
       "    <tr>\n",
       "      <th>6</th>\n",
       "      <td>786765</td>\n",
       "      <td>66224</td>\n",
       "      <td>5476567</td>\n",
       "      <td>New York</td>\n",
       "      <td>85641</td>\n",
       "    </tr>\n",
       "    <tr>\n",
       "      <th>7</th>\n",
       "      <td>587989</td>\n",
       "      <td>55156</td>\n",
       "      <td>5645641</td>\n",
       "      <td>Cali</td>\n",
       "      <td>251351</td>\n",
       "    </tr>\n",
       "    <tr>\n",
       "      <th>8</th>\n",
       "      <td>879768</td>\n",
       "      <td>545441</td>\n",
       "      <td>5463153</td>\n",
       "      <td>FloRida</td>\n",
       "      <td>543141</td>\n",
       "    </tr>\n",
       "    <tr>\n",
       "      <th>9</th>\n",
       "      <td>68987</td>\n",
       "      <td>84546</td>\n",
       "      <td>63415641</td>\n",
       "      <td>New York</td>\n",
       "      <td>51521</td>\n",
       "    </tr>\n",
       "  </tbody>\n",
       "</table>\n",
       "</div>"
      ],
      "text/plain": [
       "   RDSpend  Administration  MarketingSpend     State  Profit\n",
       "0    12233           64654          543553  New York   68556\n",
       "1     3445           54634          564156      Cali  854156\n",
       "2   324565          454552          512641   FloRida   41536\n",
       "3     3645         6546859         4156415  New York  524163\n",
       "4    36576          468686          654156      Cali   64185\n",
       "5    34657          254245         5641564   FloRida   85413\n",
       "6   786765           66224         5476567  New York   85641\n",
       "7   587989           55156         5645641      Cali  251351\n",
       "8   879768          545441         5463153   FloRida  543141\n",
       "9    68987           84546        63415641  New York   51521"
      ]
     },
     "execution_count": 11,
     "metadata": {},
     "output_type": "execute_result"
    }
   ],
   "source": [
    "RDSpend = [12233,3445,324565,3645,36576,34657,786765,587989,879768,68987]\n",
    "Administration = [64654, 54634, 454552, 6546859, 468686, 254245, 66224, 55156, 545441, 84546]\n",
    "MarketingSpend = [543553, 564156, 512641, 4156415, 654156, 5641564, 5476567, 5645641, 5463153, 63415641]\n",
    "State = ['New York', 'Cali', 'FloRida', 'New York', 'Cali', 'FloRida', 'New York', 'Cali', 'FloRida', 'New York']\n",
    "Profit = [68556, 854156, 41536, 524163, 64185, 85413, 85641, 251351, 543141, 51521]\n",
    "tab = {'RDSpend': RDSpend, 'Administration': Administration, 'MarketingSpend': MarketingSpend, 'State': State, 'Profit': Profit}\n",
    "\n",
    "import pandas\n",
    "\n",
    "data = pandas.DataFrame(tab)\n",
    "\n",
    "data\n",
    "\n",
    "\n"
   ]
  },
  {
   "cell_type": "code",
   "execution_count": 13,
   "metadata": {},
   "outputs": [
    {
     "name": "stdout",
     "output_type": "stream",
     "text": [
      "25.0 miles/hr\n"
     ]
    }
   ],
   "source": [
    "distance = 50 \n",
    "time = 2\n",
    "speed = distance/time\n",
    "print (speed, \"miles/hr\")\n"
   ]
  },
  {
   "cell_type": "code",
   "execution_count": null,
   "metadata": {},
   "outputs": [],
   "source": []
  }
 ],
 "metadata": {
  "kernelspec": {
   "display_name": "Python 3",
   "language": "python",
   "name": "python3"
  },
  "language_info": {
   "codemirror_mode": {
    "name": "ipython",
    "version": 3
   },
   "file_extension": ".py",
   "mimetype": "text/x-python",
   "name": "python",
   "nbconvert_exporter": "python",
   "pygments_lexer": "ipython3",
   "version": "3.8.5"
  }
 },
 "nbformat": 4,
 "nbformat_minor": 4
}
