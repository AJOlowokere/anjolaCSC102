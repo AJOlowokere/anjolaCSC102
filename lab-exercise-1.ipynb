{
 "cells": [
  {
   "cell_type": "markdown",
   "metadata": {},
   "source": [
    "# Anjolaoluwa Natalie Olowokere\n",
    "## Matric no.: 19100111227\n",
    "### School Email: anjolaoluwa.olowokere@pau.edu.ng\n"
   ]
  },
  {
   "cell_type": "markdown",
   "metadata": {},
   "source": [
    "# Exercise 1\n",
    "## _Write a Python program to get the difference between a given number and 17, if the number is greater than 17, return double the absolute difference._\n",
    "\n"
   ]
  },
  {
   "cell_type": "code",
   "execution_count": null,
   "metadata": {},
   "outputs": [],
   "source": [
    "def subtraction(b):\n",
    "    b = input(\"Enter desired num:\")\n",
    "\n",
    "\n",
    "\n",
    "    \n",
    "\n",
    "\n"
   ]
  },
  {
   "cell_type": "markdown",
   "metadata": {},
   "source": [
    "# Exercise 2\n",
    "## _Write a Python Program to calculate the sum of three given numbers, if the values are equal then return thrice their sum._\n"
   ]
  },
  {
   "cell_type": "code",
   "execution_count": 2,
   "metadata": {},
   "outputs": [
    {
     "name": "stdout",
     "output_type": "stream",
     "text": [
      "Enter desired num 1:7\n",
      "Enter desired num 2:7\n",
      "Enter desired num 3:7\n",
      "63\n"
     ]
    }
   ],
   "source": [
    "a = input(\"Enter desired num 1:\")\n",
    "b = input(\"Enter desired num 2:\")\n",
    "c = input(\"Enter desired num 3:\")\n",
    "addd = int(a) + int(b) + int(c)\n",
    "if a==b==c:\n",
    "    print(addd*3)\n"
   ]
  },
  {
   "cell_type": "markdown",
   "metadata": {},
   "source": [
    "# Exercise 3\n",
    "## _Write a Python Program which return true if two given integer values are equal or their sum or difference is 5._"
   ]
  },
  {
   "cell_type": "code",
   "execution_count": 8,
   "metadata": {},
   "outputs": [
    {
     "name": "stdout",
     "output_type": "stream",
     "text": [
      "Enter desired num 1:4\n",
      "Enter desired num 2:4\n",
      "True\n"
     ]
    }
   ],
   "source": [
    "a = input(\"Enter desired num 1:\")\n",
    "b = input(\"Enter desired num 2:\")\n",
    "if a==b:\n",
    "    print (True)\n",
    "elif a + b == 5:\n",
    "    print (true)\n",
    "elif a - b == 5:\n",
    "    print (true)\n",
    "else:\n",
    "    print(false)"
   ]
  },
  {
   "cell_type": "markdown",
   "metadata": {},
   "source": [
    "# Exercise 4\n",
    "## _Write a Python Program to sort three integers without usin conditional statements and loops._"
   ]
  },
  {
   "cell_type": "code",
   "execution_count": 11,
   "metadata": {},
   "outputs": [
    {
     "name": "stdout",
     "output_type": "stream",
     "text": [
      "1\n",
      "5\n",
      "2\n"
     ]
    }
   ],
   "source": [
    "x = [2,1,5]\n",
    "print(min(x))\n",
    "print(max(x))\n",
    "Middle = sum(x) - max(x) - min(x)\n",
    "print(Middle)\n"
   ]
  },
  {
   "cell_type": "markdown",
   "metadata": {},
   "source": [
    "# Exercise 5\n",
    "## _Write a Python Program that takes a positive integer and returns the sum of the cube of all the positive integers smaller than the specified number._"
   ]
  },
  {
   "cell_type": "code",
   "execution_count": 16,
   "metadata": {},
   "outputs": [
    {
     "name": "stdout",
     "output_type": "stream",
     "text": [
      "24\n"
     ]
    }
   ],
   "source": [
    "sum = 0\n",
    "for p in range(0,7):\n",
    "    sum = sum + p^3\n",
    "print (sum)\n"
   ]
  },
  {
   "cell_type": "code",
   "execution_count": null,
   "metadata": {},
   "outputs": [],
   "source": []
  }
 ],
 "metadata": {
  "kernelspec": {
   "display_name": "Python 3",
   "language": "python",
   "name": "python3"
  },
  "language_info": {
   "codemirror_mode": {
    "name": "ipython",
    "version": 3
   },
   "file_extension": ".py",
   "mimetype": "text/x-python",
   "name": "python",
   "nbconvert_exporter": "python",
   "pygments_lexer": "ipython3",
   "version": "3.8.5"
  }
 },
 "nbformat": 4,
 "nbformat_minor": 4
}
